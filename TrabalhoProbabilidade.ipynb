{
 "cells": [
  {
   "cell_type": "markdown",
   "metadata": {},
   "source": [
    "## IMD0033 - Probabilidade\n",
    "\n",
    "# Trabalho I \n",
    "\n",
    "Este trabalho servirá como avaliação dos conteúdos relacionados a Estatística Descritiva. Responda às questões abaixo.\n",
    "\n",
    "Data de entrega: Até 12:00 do dia 14/09\n",
    "\n",
    "Forma de entrega: Via SIGAA na forma de um jupyter notebook ou na forma de um documento em um editor de texto (word).\n",
    "\n",
    "Qualquer dúvida escreva para tetsu@imd.ufrn.br.\n",
    "\n",
    "### Questão 1\n",
    "\n",
    "Defina com suas palavras e de forma sucinta os termos abaixo:\n",
    "\n",
    "a) População"
   ]
  },
  {
   "cell_type": "markdown",
   "metadata": {},
   "source": [
    "Resposta: Conjunto total de dados a serem estudados e analisados estatisticamente com a finalidade de gerar alguma informação sobre a mesma."
   ]
  },
  {
   "cell_type": "markdown",
   "metadata": {},
   "source": [
    "b) Amostra"
   ]
  },
  {
   "cell_type": "markdown",
   "metadata": {},
   "source": [
    "Resposta: Subconjunto de uma população. Tem como objetivo tornar mais prático a análise estatística de grandes populações."
   ]
  },
  {
   "cell_type": "markdown",
   "metadata": {},
   "source": [
    "c) Conceito (em um desenho experimental)"
   ]
  },
  {
   "cell_type": "markdown",
   "metadata": {},
   "source": [
    "Resposta:"
   ]
  },
  {
   "cell_type": "markdown",
   "metadata": {},
   "source": [
    "d) Definição operacional"
   ]
  },
  {
   "cell_type": "markdown",
   "metadata": {},
   "source": [
    "Resposta: Termo técnico que atribui um conceito específico em uma determinada circustância. Esta, evita conflitos e gera clareza a todos as pessoas envolvidas."
   ]
  },
  {
   "cell_type": "markdown",
   "metadata": {},
   "source": [
    "e) Experimento controlado"
   ]
  },
  {
   "cell_type": "markdown",
   "metadata": {},
   "source": [
    "Resposta: Estudo feito quando se tem o objetivo de verificar se uma determinada variável causa um efeito direto na situação."
   ]
  },
  {
   "cell_type": "markdown",
   "metadata": {},
   "source": [
    "f) Desvio"
   ]
  },
  {
   "cell_type": "markdown",
   "metadata": {},
   "source": [
    "Resposta: Medida de dispersão que verifica a regularidade de um conjunto de dados, ou seja, mostra o quanto os dados deste conjunto diverge entre si."
   ]
  },
  {
   "cell_type": "markdown",
   "metadata": {},
   "source": [
    "g) Correção de Bessel"
   ]
  },
  {
   "cell_type": "markdown",
   "metadata": {},
   "source": [
    "Resposta:"
   ]
  },
  {
   "cell_type": "markdown",
   "metadata": {},
   "source": [
    "h) Outlier"
   ]
  },
  {
   "cell_type": "markdown",
   "metadata": {},
   "source": [
    "Resposta: Resultado atípico em uma análise estatística, valor que foge da normalidade. "
   ]
  },
  {
   "cell_type": "markdown",
   "metadata": {},
   "source": [
    "### Questão 2\n",
    "\n",
    "Reflita sobre as seguintes afirmações, indique se é verdadeiro ou falso e justifique:\n",
    "\n",
    "a) Se a média de um conjunto de dados é 50, podemos certamente afirmar que os dados encontram-se próximos de 50."
   ]
  },
  {
   "cell_type": "markdown",
   "metadata": {},
   "source": [
    "Resposta:Falso. Não é possível afirmar com certeza tal afirmação pois estes dados podem estar com um alto desvio."
   ]
  },
  {
   "cell_type": "markdown",
   "metadata": {},
   "source": [
    "b) A variância é a média dos desvios ao quadrado."
   ]
  },
  {
   "cell_type": "markdown",
   "metadata": {},
   "source": [
    "Resposta:Falso. Variância é a média das somas dos desvios ao quadrado."
   ]
  },
  {
   "cell_type": "markdown",
   "metadata": {},
   "source": [
    "c) Quando transformamos os dados através do z-score, a mediana dos dados transformados é sempre 0."
   ]
  },
  {
   "cell_type": "markdown",
   "metadata": {},
   "source": [
    "Resposta:Verdadeiro. Os dados geram uma distribuição normal padrão quando transformados em z-score."
   ]
  },
  {
   "cell_type": "markdown",
   "metadata": {},
   "source": [
    "d) Ao analisar a correlação entre duas variáveis, se verificarmos uma correlação de 0.9, o que é considerada alta, podemos certamente afirmar que a variável dependente é a causa da variação nos valores da variável independente."
   ]
  },
  {
   "cell_type": "markdown",
   "metadata": {},
   "source": [
    "Resposta:Falso. Uma correlação de 0.9 apenas indica uma forte associação, não sendo possível afirmar tal afirmação."
   ]
  },
  {
   "cell_type": "markdown",
   "metadata": {},
   "source": [
    "### Questão 3\n",
    "\n",
    "Baixe o arquivo que se encontram neste [link](https://raw.githubusercontent.com/tetsufmbio/IMD0033/master/trabalhoI/CO2_emission.txt). Este arquivo contém dados de emissão de CO2 em kT (quilotonelada) emitido pelos países ao longo no período de 2000 a 2014. Desconsiderando aqueles países que apresentam valores faltantes (\"..\"), responda:\n",
    "\n",
    "a) Qual foi o país que menos emitiu CO2 ao longo destes anos?"
   ]
  },
  {
   "cell_type": "code",
   "execution_count": 15,
   "metadata": {},
   "outputs": [
    {
     "name": "stdout",
     "output_type": "stream",
     "text": [
      "País que menos emitiu CO2 ao longo dos anos: \n",
      "Tuvalu\n"
     ]
    }
   ],
   "source": [
    "import numpy as np                     \n",
    "import matplotlib.pyplot as plt\n",
    "\n",
    "f = open(\"CO2_emission.txt\", \"r\")\n",
    "firstLine = f.readline()\n",
    "cells = firstLine.split(\"\\t\")\n",
    "\n",
    "ncol = len(cells)\n",
    "\n",
    "\n",
    "\n",
    "country = []\n",
    "data = np.empty((1, 15))\n",
    "\n",
    "idx = 0\n",
    "\n",
    "\n",
    "aux2 = \"..\" #Variável auxiliar para ajudar na retirada dos país sem valores do arquivo de texto. \n",
    "\n",
    "\n",
    "for row in f:\n",
    "    if aux2 not in row:\n",
    "        row = row.replace(\"\\n\", \"\")\n",
    "        cells = row.split(\"\\t\")\n",
    "        country.append(cells[2])\n",
    "        cells[2] = idx\n",
    "        idx += 1\n",
    "        \n",
    "        for y in range(4,len(cells)):\n",
    "            if(cells[y]):\n",
    "                cells[y] = float(cells[y])\n",
    "        \n",
    "            else:\n",
    "                cells[y] = 0\n",
    "        \n",
    "        ins = np.array([cells[4:]])\n",
    "        data = np.append(data, ins, axis=0)\n",
    "        \n",
    "        \n",
    "soma = np.empty((0,204))\n",
    "for i in range(0,5):  #Removendo espaços em brancos que ficaram no final da lista.\n",
    "    country.pop()\n",
    "    \n",
    "\n",
    "\n",
    "aux = 0\n",
    "for i in range(0,204):\n",
    "    soma = np.insert(soma, aux, data[i].sum())\n",
    "    aux += 1\n",
    "\n",
    "\n",
    "    \n",
    "soma = np.delete(soma,(199,200,201,202,203), axis=0) #Deletando os valores iguais a 0(Estão aparecendo, porém não sei a razão)\n",
    "\n",
    "\n",
    "\n",
    "pais = 0;\n",
    "\n",
    "\n",
    "\n",
    "\n",
    "\n",
    "for i in range(1,199):\n",
    "    if data[i].sum() == soma.min():\n",
    "        print(\"País que menos emitiu CO2 ao longo dos anos: \")\n",
    "        print(country[i-1]) #Por algum motivo e depois de vários testes e tentativas, o número correspondente ao país é sempre uma unidade menor.\n",
    "\n",
    "\n",
    "        \n"
   ]
  },
  {
   "cell_type": "markdown",
   "metadata": {},
   "source": [
    "b) Qual foi o país que teve a maior taxa média de emissão de CO2 ao longo destes anos? Considere a taxa de emissão de CO2 de cada ano como sendo a relação entre a quantidade de CO2 emitido em um ano com a do ano anterior."
   ]
  },
  {
   "cell_type": "code",
   "execution_count": 18,
   "metadata": {},
   "outputs": [
    {
     "name": "stdout",
     "output_type": "stream",
     "text": [
      "Esta é a maior taxa média: \n",
      "1.3719108358907348\n"
     ]
    },
    {
     "name": "stderr",
     "output_type": "stream",
     "text": [
      "D:\\Anaconda\\lib\\site-packages\\ipykernel_launcher.py:32: RuntimeWarning: invalid value encountered in double_scalars\n"
     ]
    }
   ],
   "source": [
    "#Interpretei a questão da seguinte forma: Para cada país, calculei sua taxa de emissão de seu respectivo ano com o anterior e fiz um somatório.\n",
    "#Em seguida, calculei a média desses valores\n",
    "#para então compará-los e verificar qual possuía a maior média(taxa média) durante esse período.\n",
    "\n",
    "\n",
    "\n",
    "\n",
    "\n",
    "\n",
    "count = 0\n",
    "\n",
    "indPais = 1\n",
    "\n",
    "idx = 0\n",
    "\n",
    "idx2 = 0\n",
    "\n",
    "values = np.empty((0,204))\n",
    "\n",
    "\n",
    "somatorio = 0\n",
    "\n",
    "#for y in range(0,14):\n",
    "#    pool = data[1, y+1]/data[1, y]\n",
    "#    somatorio += pool\n",
    "#    taxa = somatorio/15\n",
    "    \n",
    "#print(country[0])    \n",
    "#print(taxa)\n",
    "\n",
    "while indPais < 204:\n",
    "    test = data[indPais,idx+1]/data[indPais,idx]\n",
    "    idx += 1\n",
    "    count += test\n",
    "    \n",
    "    if idx == 14:\n",
    "        taxaMedia = count/15\n",
    "        values = np.insert(values, idx2, taxaMedia)\n",
    "        count = 0\n",
    "        idx = 0\n",
    "        idx2 +=1\n",
    "        indPais += 1\n",
    "        \n",
    "    \n",
    "\n",
    "\n",
    "values = np.delete(values,(198,199,200,201,202), axis=0) #Mesmo caso anterior, valores não condizentes nas últimas 5 posições. Por isso, a remoção\n",
    "\n",
    "\n",
    "maiorTaxa = values.max()\n",
    "\n",
    "print(\"Esta é a maior taxa média: \") #Encontrei dificuldades em conseguir linkar a taxa com a lista de países\n",
    "print(maiorTaxa)\n",
    "\n",
    "\n",
    "\n",
    "\n",
    "    \n",
    "\n"
   ]
  },
  {
   "cell_type": "markdown",
   "metadata": {},
   "source": [
    "c) Quantos países conseguiram diminuir a emissão de CO2 durante este período? Em outras palavras, quantos países tiveram sua taxa média de emissão de CO2 menor que 1?"
   ]
  },
  {
   "cell_type": "code",
   "execution_count": 19,
   "metadata": {},
   "outputs": [
    {
     "name": "stdout",
     "output_type": "stream",
     "text": [
      "Número de países:\n",
      "163\n"
     ]
    }
   ],
   "source": [
    "t = values < 1.0\n",
    "\n",
    "print(\"Número de países:\")\n",
    "print(t.sum())\n"
   ]
  },
  {
   "cell_type": "markdown",
   "metadata": {},
   "source": [
    "d) Qual foi a taxa média de emissão de CO2 do Brasil ao longo destes anos?"
   ]
  },
  {
   "cell_type": "code",
   "execution_count": 20,
   "metadata": {},
   "outputs": [
    {
     "name": "stdout",
     "output_type": "stream",
     "text": [
      "Taxa de CO2 do Brasil ao longo dos anos: \n",
      "0.9668872198140176\n"
     ]
    }
   ],
   "source": [
    "b = \"Brazil\"\n",
    "\n",
    "for i in range(0, len(country)):\n",
    "    if country[i] == b:\n",
    "        bb = data[i+1] #Guarda os dados de emissões do Brasil\n",
    "add = 0        \n",
    "\n",
    "for k in range(0, 14):\n",
    "    pool = bb[k+1]/bb[k]\n",
    "    add += pool\n",
    "\n",
    "taxa = add/15\n",
    "print(\"Taxa de CO2 do Brasil ao longo dos anos: \")    \n",
    "print(taxa)\n"
   ]
  },
  {
   "cell_type": "markdown",
   "metadata": {},
   "source": [
    "e) A taxa média de emissão de CO2 entre os países segue aproximadamente uma distribuição normal como mostra o gráfico abaixo. Dos países que estamos analisando, quantos deles possuem a taxa média maior que a taxa média brasileira? \n",
    "\n",
    "![image.png](attachment:image.png)"
   ]
  },
  {
   "cell_type": "code",
   "execution_count": 21,
   "metadata": {},
   "outputs": [
    {
     "name": "stdout",
     "output_type": "stream",
     "text": [
      "Número de países:\n",
      "89\n"
     ]
    }
   ],
   "source": [
    "p = values > taxa\n",
    "\n",
    "print(\"Número de países:\")\n",
    "print(p.sum())"
   ]
  },
  {
   "cell_type": "markdown",
   "metadata": {},
   "source": [
    "f) A Noruega é um dos países que vem fazendo esforço para diminuir a emissão de CO2. Abaixo se encontra o gráfico que demonstra a quantidade de CO2 emitido por este país ao longo do período apresentado pelos dados. Tendo em mente este padrão de emissão de CO2 da Noruega, qual o país que possui um padrão de emissão de CO2 mais similar ao padrão da Noruega? Plote um gráfico que consiga demonstrar a semelhança dos padrões de emissão de CO2 entre os dois países.\n",
    "![image.png](attachment:image.png)"
   ]
  },
  {
   "cell_type": "code",
   "execution_count": 22,
   "metadata": {},
   "outputs": [
    {
     "name": "stdout",
     "output_type": "stream",
     "text": [
      "Norway\n",
      "[39673.273 41910.143 38023.123 45221.444 42647.21  42438.191 44257.023\n",
      " 45089.432 55690.729 55346.031 60105.797 45195.775 49889.535 58162.287\n",
      " 47626.996]\n",
      "6659.233481131869\n"
     ]
    },
    {
     "data": {
      "image/png": "[encoded data removed]",
      "text/plain": [
       "<Figure size 432x288 with 1 Axes>"
      ]
     },
     "metadata": {},
     "output_type": "display_data"
    },
    {
     "name": "stdout",
     "output_type": "stream",
     "text": [
      "198\n"
     ]
    }
   ],
   "source": [
    "n = \"Norway\"\n",
    "print(n)\n",
    "\n",
    "for i in range(0, len(country)):\n",
    "    if country[i] == n:\n",
    "        nn = data[i+1] #Guarda os dados de emissões da Noruega\n",
    "        \n",
    "print(nn)\n",
    "\n",
    "print(np.std(nn))\n",
    "\n",
    "x = np.array([2000, 2001, 2002, 2003, 2004, 2005, 2006, 2007, 2008, 2009, 2010, 2011, 2012, 2013, 2014])\n",
    "y = nn\n",
    "\n",
    "plt.plot(x,y, label=\"Noruega\")\n",
    "plt.title(\"Gráfico da Noruega\")\n",
    "plt.xlabel(\"Anos\")\n",
    "plt.ylabel(\"Emissão\")\n",
    "plt.legend()\n",
    "plt.grid()\n",
    "plt.show()\n",
    "\n",
    "print(len(country))\n",
    "\n",
    "sv = np.empty((0,198))\n",
    "\n",
    "idx3 = 0\n",
    "for i in data:\n",
    "    sv = np.insert(sv,idx3, np.std(i))\n",
    "\n"
   ]
  },
  {
   "cell_type": "code",
   "execution_count": 23,
   "metadata": {},
   "outputs": [],
   "source": [
    "f.close()"
   ]
  },
  {
   "cell_type": "code",
   "execution_count": null,
   "metadata": {},
   "outputs": [],
   "source": []
  },
  {
   "cell_type": "code",
   "execution_count": null,
   "metadata": {},
   "outputs": [],
   "source": []
  }
 ],
 "metadata": {
  "kernelspec": {
   "display_name": "Python 3",
   "language": "python",
   "name": "python3"
  },
  "language_info": {
   "codemirror_mode": {
    "name": "ipython",
    "version": 3
   },
   "file_extension": ".py",
   "mimetype": "text/x-python",
   "name": "python",
   "nbconvert_exporter": "python",
   "pygments_lexer": "ipython3",
   "version": "3.6.5"
  }
 },
 "nbformat": 4,
 "nbformat_minor": 2
}
